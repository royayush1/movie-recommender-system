{
 "cells": [
  {
   "cell_type": "code",
   "execution_count": 3,
   "id": "9cbfee13-5fae-458e-a305-74b10f093cbc",
   "metadata": {},
   "outputs": [],
   "source": [
    "import pandas as pd\n",
    "import numpy as np\n",
    "import matplotlib.pyplot as plt\n",
    "import seaborn as sns\n",
    "\n",
    "pd.set_option('display.max_columns', None)"
   ]
  },
  {
   "cell_type": "code",
   "execution_count": 4,
   "id": "81c32918-3681-42fd-a357-0d2eed0fa4bb",
   "metadata": {},
   "outputs": [
    {
     "name": "stdout",
     "output_type": "stream",
     "text": [
      "Ratings Data\n",
      "   userId  movieId  rating  timestamp\n",
      "0       1       17     4.0  944249077\n",
      "1       1       25     1.0  944250228\n",
      "2       1       29     2.0  943230976\n",
      "3       1       30     5.0  944249077\n",
      "4       1       32     5.0  943228858\n",
      "\n",
      "Movies Data\n",
      "   movieId                               title  \\\n",
      "0        1                    Toy Story (1995)   \n",
      "1        2                      Jumanji (1995)   \n",
      "2        3             Grumpier Old Men (1995)   \n",
      "3        4            Waiting to Exhale (1995)   \n",
      "4        5  Father of the Bride Part II (1995)   \n",
      "\n",
      "                                        genres  \n",
      "0  Adventure|Animation|Children|Comedy|Fantasy  \n",
      "1                   Adventure|Children|Fantasy  \n",
      "2                               Comedy|Romance  \n",
      "3                         Comedy|Drama|Romance  \n",
      "4                                       Comedy  \n"
     ]
    }
   ],
   "source": [
    "#Read Datasets and check if dataset has been read properly\n",
    "ratings = pd.read_csv('ml-32m/ratings.csv')\n",
    "movies = pd.read_csv('ml-32m/movies.csv')\n",
    "print(\"Ratings Data\")\n",
    "print(ratings.head())\n",
    "print(\"\\nMovies Data\")\n",
    "print(movies.head())"
   ]
  },
  {
   "cell_type": "code",
   "execution_count": 5,
   "id": "b95db38b-948c-4ed1-b8bc-a628ada041dd",
   "metadata": {},
   "outputs": [
    {
     "name": "stdout",
     "output_type": "stream",
     "text": [
      "Ratings Dataset: (32000304, 4)\n",
      "Movies Dataset: (87585, 3)\n"
     ]
    }
   ],
   "source": [
    "#Display Dimensions of DataFrame\n",
    "print(f\"Ratings Dataset: {ratings.shape}\")\n",
    "print(f\"Movies Dataset: {movies.shape}\")"
   ]
  },
  {
   "cell_type": "code",
   "execution_count": 6,
   "id": "3c06f1a2-5d65-4ee4-8f95-518fac6de42b",
   "metadata": {},
   "outputs": [
    {
     "name": "stdout",
     "output_type": "stream",
     "text": [
      "Missing Values in Ratings\n",
      "userId       0\n",
      "movieId      0\n",
      "rating       0\n",
      "timestamp    0\n",
      "dtype: int64\n",
      "Missing Values in Movies\n",
      "movieId    0\n",
      "title      0\n",
      "genres     0\n",
      "dtype: int64\n"
     ]
    }
   ],
   "source": [
    "#Check for missing values in Ratings and Movies DataFrame\n",
    "print(\"Missing Values in Ratings\")\n",
    "print(ratings.isnull().sum())\n",
    "print(\"Missing Values in Movies\")\n",
    "print(movies.isnull().sum())"
   ]
  },
  {
   "cell_type": "code",
   "execution_count": 7,
   "id": "71d63c7a-a3b5-45f0-8ac4-354f1ce4a61a",
   "metadata": {},
   "outputs": [
    {
     "name": "stderr",
     "output_type": "stream",
     "text": [
      "/var/folders/80/x4mqvsbs4t92fk9wgb844pl40000gn/T/ipykernel_22768/457146126.py:3: FutureWarning: \n",
      "\n",
      "Passing `palette` without assigning `hue` is deprecated and will be removed in v0.14.0. Assign the `x` variable to `hue` and set `legend=False` for the same effect.\n",
      "\n",
      "  sns.countplot(data=ratings, x='rating', palette='viridis')\n"
     ]
    },
    {
     "data": {
      "image/png": "[encoded data removed]",
      "text/plain": [
       "<Figure size 800x600 with 1 Axes>"
      ]
     },
     "metadata": {},
     "output_type": "display_data"
    }
   ],
   "source": [
    "#Data Visualization to check distribution of ratings\n",
    "plt.figure(figsize=(8,6))\n",
    "sns.countplot(data=ratings, x='rating', palette='viridis')\n",
    "plt.title('Distribution of Movie Ratings')\n",
    "plt.xlabel('Rating')\n",
    "plt.ylabel('Count')\n",
    "plt.show()"
   ]
  },
  {
   "cell_type": "code",
   "execution_count": 8,
   "id": "77459330-0613-4197-83a8-5bee70a52751",
   "metadata": {},
   "outputs": [
    {
     "name": "stdout",
     "output_type": "stream",
     "text": [
      "Ratings Data Types: \n",
      "userId         int64\n",
      "movieId        int64\n",
      "rating       float64\n",
      "timestamp      int64\n",
      "dtype: object\n",
      "\n",
      "Movies Data Types: \n",
      "movieId     int64\n",
      "title      object\n",
      "genres     object\n",
      "dtype: object\n"
     ]
    }
   ],
   "source": [
    "#Check Datatypes and make sure they're consistent (Data Cleaning)\n",
    "print(\"Ratings Data Types: \")\n",
    "print(ratings.dtypes)\n",
    "\n",
    "print(\"\\nMovies Data Types: \")\n",
    "print(movies.dtypes)\n",
    "\n",
    "ratings['userId'] = ratings['userId'].astype(int)\n",
    "ratings['movieId'] = ratings['movieId'].astype(int)\n",
    "ratings['rating'] = ratings['rating'].astype(float)\n",
    "movies['movieId'] = movies['movieId'].astype(int)"
   ]
  },
  {
   "cell_type": "code",
   "execution_count": 9,
   "id": "2ee83cf9-48fb-4ded-a2da-8d0bb63496fd",
   "metadata": {},
   "outputs": [
    {
     "name": "stdout",
     "output_type": "stream",
     "text": [
      "Number of duplicate rows: 0\n"
     ]
    }
   ],
   "source": [
    "#Remove Duplicate Rows\n",
    "duplicates=ratings.duplicated().sum()\n",
    "print(f\"Number of duplicate rows: {duplicates}\")\n",
    "\n",
    "ratings = ratings.drop_duplicates()"
   ]
  },
  {
   "cell_type": "code",
   "execution_count": 10,
   "id": "87ab1ca6-093b-45ce-ba20-a7ff4bef4402",
   "metadata": {},
   "outputs": [
    {
     "name": "stdout",
     "output_type": "stream",
     "text": [
      "Evaluating the SVD Algorithm using 3-fold Cross Validation:\n",
      "Evaluating RMSE, MAE of algorithm SVD on 3 split(s).\n",
      "\n",
      "                  Fold 1  Fold 2  Fold 3  Mean    Std     \n",
      "RMSE (testset)    0.9515  0.9495  0.9514  0.9508  0.0009  \n",
      "MAE (testset)     0.7334  0.7324  0.7339  0.7332  0.0006  \n",
      "Fit time          2.10    1.72    1.78    1.87    0.17    \n",
      "Test time         0.30    2.07    0.24    0.87    0.85    \n",
      "Model trained and saved to svd_model.joblib\n",
      "RMSE: 0.7718\n",
      "MAE:  0.5800\n",
      "RMSE on Test Set: 0.771845853372914\n",
      "MAE on Test Set: 0.5799990237001202\n"
     ]
    }
   ],
   "source": [
    "#Use Surprise to make recommedation system. Structure the data and set up the data in a way surprise can understand\n",
    "#Import and Initialise SVD Algorithm from Surprise Library (if model does not exist) or load model if it does\n",
    "from surprise import SVD, Dataset, Reader\n",
    "from surprise.model_selection import train_test_split, cross_validate\n",
    "from surprise import accuracy\n",
    "from joblib import dump, load\n",
    "import os\n",
    "\n",
    "model_path = 'svd_model.joblib'\n",
    "\n",
    "if os.path.exists(model_path):\n",
    "    algo=load(model_path)\n",
    "    print(\"Loaded existing model from disk\")\n",
    "else:\n",
    "    algo = SVD()\n",
    "    reader = Reader(rating_scale=(ratings['rating'].min(), ratings['rating'].max()))\n",
    "    \n",
    "    #Use subset of data to evaluate overall performance of model using 3-fold cross-validation\n",
    "    sample_size = int(0.01 * len(ratings))\n",
    "    ratings_subset = ratings.sample(n = sample_size, random_state=42)\n",
    "    \n",
    "    data_subset = Dataset.load_from_df(ratings_subset[['userId', 'movieId', 'rating']], reader)\n",
    "\n",
    "    #Use fulldata and training split to eventually train model\n",
    "\n",
    "    data_surprise = Dataset.load_from_df(ratings[['userId', 'movieId', 'rating']], reader)\n",
    "    \n",
    "    #Evaluating the SVD Algorithm using 3-fold Cross Validation\n",
    "    print(\"Evaluating the SVD Algorithm using 3-fold Cross Validation:\")\n",
    "    cross_validate(algo, data_subset, measures=['RMSE', 'MAE'], cv=3, verbose=True)\n",
    "\n",
    "    #Divide dataset into training set (80%) and test set (20%), train model and use RMSE and MAE to calculate error on predictions\n",
    "    \n",
    "    trainset, testset = train_test_split(data_surprise, test_size=0.2, random_state=42)\n",
    "    algo.fit(trainset)\n",
    "    predictions = algo.test(testset)\n",
    "\n",
    "    dump(algo, model_path)\n",
    "    print(f\"Model trained and saved to {model_path}\")\n",
    "    rmse = accuracy.rmse(predictions)\n",
    "    mae = accuracy.mae(predictions)\n",
    "    \n",
    "    print(f\"RMSE on Test Set: {rmse}\")\n",
    "    print(f\"MAE on Test Set: {mae}\")\n"
   ]
  },
  {
   "cell_type": "code",
   "execution_count": 11,
   "id": "3db05bb9-26f6-48a7-8220-f2207bd61d6d",
   "metadata": {},
   "outputs": [
    {
     "name": "stdout",
     "output_type": "stream",
     "text": [
      "user: 1          item: 17         r_ui = None   est = 3.61   {'was_impossible': False}\n",
      "user: 10         item: 1693       r_ui = None   est = 2.94   {'was_impossible': False}\n"
     ]
    }
   ],
   "source": [
    "#Running an example prediction\n",
    "user_id = 1\n",
    "movie_id = 17\n",
    "pred = algo.predict(user_id, movie_id)\n",
    "#User 1 actually rated the movie with MovieId: 17 as 4.0. Model's predicted rating was 3.88\n",
    "print(pred)\n",
    "\n",
    "#Example2\n",
    "user_id = 10\n",
    "movie_id = 1693\n",
    "pred = algo.predict(user_id, movie_id)\n",
    "#User 10 actually rated the movie with MovieId: 1693 as 2.5. Model's predicted rating was 2.87\n",
    "print(pred)"
   ]
  },
  {
   "cell_type": "code",
   "execution_count": 12,
   "id": "1970c0cb-7544-4540-bcec-e66295544a0c",
   "metadata": {},
   "outputs": [],
   "source": [
    "#Building the actual recommendation system\n",
    "def get_top_n_recommendations(algo, user_id, movies_df, ratings_df, n=10):\n",
    "    \"\"\"\n",
    "    Generate top N movie recommendations for a user\n",
    "\n",
    "    Parameters:\n",
    "    - algo: Trained Surprise Algorithm\n",
    "    - user_id: ID of the user\n",
    "    - movies_df: Dataframe containing the movies data\n",
    "    - ratings_df: Dataframe containing the ratings data\n",
    "    - n: Number of recommendations to return\n",
    "\n",
    "    \"\"\"\n",
    "    all_movie_ids = movies_df['movieId'].unique()\n",
    "    \n",
    "    rated_movie_ids = ratings_df[ratings_df['userId'] == user_id]['movieId'].unique()\n",
    "\n",
    "    unrated_movie_ids = [movie for movie in all_movie_ids if movie not in rated_movie_ids]\n",
    "\n",
    "    predictions = [algo.predict(user_id, movie_id) for movie_id in unrated_movie_ids]\n",
    "    \n",
    "    predictions.sort(key = lambda x: x.est, reverse=True)\n",
    "    \n",
    "    top_n = predictions[:n]\n",
    "    \n",
    "    top_n_movies = [(movies_df[movies_df['movieId'] == int(pred.iid)]['title'].values[0], pred.est) for pred in top_n]\n",
    "    return top_n_movies\n",
    "    \n",
    "    "
   ]
  },
  {
   "cell_type": "code",
   "execution_count": 13,
   "id": "71c3d464-34d6-4ae6-b6db-fdd63ebc98e0",
   "metadata": {},
   "outputs": [
    {
     "name": "stdout",
     "output_type": "stream",
     "text": [
      "Top 10 Movie Recommendations for User1: \n",
      "Alien (1979): 4.90\n",
      "Aguirre: The Wrath of God (Aguirre, der Zorn Gottes) (1972): 4.72\n",
      "Human Condition I, The (Ningen no joken I) (1959): 4.59\n",
      "Spirited Away (Sen to Chihiro no kamikakushi) (2001): 4.58\n",
      "The Work of Director Chris Cunningham (2003): 4.58\n",
      "Nights of Cabiria (Notti di Cabiria, Le) (1957): 4.56\n",
      "Sunset Blvd. (a.k.a. Sunset Boulevard) (1950): 4.54\n",
      "8 1/2 (8½) (1963): 4.52\n",
      "Greed (1924): 4.51\n",
      "Moment of Innocence, A (Nun va Goldoon) (1996): 4.51\n"
     ]
    }
   ],
   "source": [
    "#Printing top 10 recommendations for user\n",
    "top_recommendations = get_top_n_recommendations(algo, user_id=1, movies_df = movies, ratings_df = ratings, n=10)\n",
    "print(\"Top 10 Movie Recommendations for User1: \")\n",
    "\n",
    "for title, rating in top_recommendations:\n",
    "    print(f\"{title}: {rating:.2f}\")"
   ]
  },
  {
   "cell_type": "code",
   "execution_count": 14,
   "id": "dee41166-6ed8-482f-93eb-dc28587ece22",
   "metadata": {},
   "outputs": [],
   "source": [
    "# #Grid Search to find optimal parameters to further improve model\n",
    "# from surprise.model_selection import GridSearchCV\n",
    "\n",
    "# param_grid = {\n",
    "#     'n_factors': [50, 75, 100, 125, 150],\n",
    "#     'n_epochs': [20, 30, 40],\n",
    "#     'lr_all': [0.002, 0.005, 0.01],\n",
    "#     'reg_all': [0.02, 0.05, 0.1]\n",
    "# }\n",
    "\n",
    "\n",
    "# gs = GridSearchCV(SVD, param_grid, measures=['rmse', 'mae'], cv=3, n_jobs=-1, joblib_verbose=3)\n",
    "\n",
    "# print(\"Starting Grid Search on 1% of dataset to find optimal SVD hyperparameters: \")\n",
    "\n",
    "# sample_size = int(0.1 * len(ratings))\n",
    "# ratings_subset = ratings.sample(n = sample_size, random_state=42)\n",
    "# reader = Reader(rating_scale=(ratings_subset['rating'].min(), ratings_subset['rating'].max()))\n",
    "# data_subset = Dataset.load_from_df(ratings_subset[['userId', 'movieId', 'rating']], reader)\n",
    "\n",
    "# gs.fit(data_subset)\n",
    "\n",
    "# print(\"Grid Search Complete\")\n",
    "\n",
    "# print(f\"Best Parameters for SVD based on RMSE: {gs.best_params['rmse']}\")\n",
    "\n",
    "# print(f\"Best RMSE Score: {gs.best_score['rmse']}\")\n",
    "\n",
    "# print(f\"gs: {gs}\")\n",
    "\n",
    "# print(f\"Best Parameters for SVD based on MAE: {gs.best_params['mae']}\")\n",
    "\n",
    "# print(f\"Best MAE Score: {gs.best_score['mae']}\")\n",
    "\n"
   ]
  },
  {
   "cell_type": "code",
   "execution_count": 9,
   "id": "0e6508ec-8181-4ad3-932d-aac3b2b553f5",
   "metadata": {},
   "outputs": [],
   "source": [
    "#Work on combining current model with Content Based Filtering\n",
    "#Load our model and read csvs\n",
    "import pandas as pd\n",
    "from joblib import load\n",
    "\n",
    "movies = pd.read_csv('ml-32m/movies.csv')\n",
    "ratings = pd.read_csv('ml-32m/ratings.csv')\n",
    "\n",
    "#Combine title and genres into one text field for each movie\n",
    "movies['combined_features'] = movies['title'] + movies['genres']"
   ]
  },
  {
   "cell_type": "code",
   "execution_count": 10,
   "id": "60b55bf9-1ffe-4f51-913f-341a90d95372",
   "metadata": {},
   "outputs": [],
   "source": [
    "algo = load('svd_model.joblib')"
   ]
  },
  {
   "cell_type": "code",
   "execution_count": 11,
   "id": "a8cd31b5-2ad1-4f34-8de7-c9d52ef536ce",
   "metadata": {},
   "outputs": [
    {
     "name": "stdout",
     "output_type": "stream",
     "text": [
      "(87585, 42994)\n"
     ]
    }
   ],
   "source": [
    "#Initialize TF-IDF Vectorizer and compute TF-IDF matrix for the combined features of movies\n",
    "from sklearn.feature_extraction.text import TfidfVectorizer\n",
    "\n",
    "tfidf = TfidfVectorizer()\n",
    "tfidf_matrix = tfidf.fit_transform(movies['combined_features'])\n",
    "\n",
    "\n",
    "print(tfidf_matrix.shape) "
   ]
  },
  {
   "cell_type": "code",
   "execution_count": 12,
   "id": "15e049ba-4459-4232-9cd9-ef330a5c258b",
   "metadata": {},
   "outputs": [],
   "source": [
    "#Compute cosine similarity matrix for all movies based on TF-IDF Vectors (disbanded as it is impractical)\n",
    "# from sklearn.metrics.pairwise import linear_kernel\n",
    "\n",
    "# cosine_sim = linear_kernel(tfidf_matrix, tfidf_matrix)\n",
    "\n",
    "# print(cosine_sim.shape)\n",
    "\n",
    "#Cosine Similarity will not work as the dataset is too massive which causes the kernel to crash. Dataset is too big. Cosine Similarity is impractical"
   ]
  },
  {
   "cell_type": "code",
   "execution_count": 13,
   "id": "c7387701-161d-4086-bf3f-1ddcab3816e1",
   "metadata": {},
   "outputs": [
    {
     "name": "stdout",
     "output_type": "stream",
     "text": [
      "The memory_profiler extension is already loaded. To reload it, use:\n",
      "  %reload_ext memory_profiler\n",
      "Loaded Annoy Index\n"
     ]
    }
   ],
   "source": [
    "#Using Annoy instead of Cosine Similarity Matrix to get approximate nearest neighbours\n",
    "from annoy import AnnoyIndex\n",
    "import os\n",
    "import gc\n",
    "\n",
    "#Get number of features from our TF-IDF Matrix\n",
    "num_features = tfidf_matrix.shape[1]\n",
    "index = AnnoyIndex(num_features, 'angular')\n",
    "\n",
    "%load_ext memory_profiler\n",
    "#Add each movie's TF-IDF Vector to the Annoy Index\n",
    "if os.path.exists('annoy_index.ann'):\n",
    "    index.load('annoy_index.ann')\n",
    "    print(f\"Loaded Annoy Index\")\n",
    "else:\n",
    "    num_movies = 67000\n",
    "    %memit\n",
    "    for i in range(num_movies):\n",
    "        #Convert sparse row to array that can be used as vector for index. Use float32 to converse memory\n",
    "        vector = tfidf_matrix.getrow(i).astype('float32').toarray()[0]\n",
    "        index.add_item(i,vector)\n",
    "        if (i+1) % 10000 == 0:\n",
    "            print(f\"Added {i+1} movies to the Annoy Index\")\n",
    "            gc.collect() #Trigger Garbage Collection to free up memory\n",
    "    \n",
    "    #Build index with chosen number of trees \n",
    "    num_tree = 10\n",
    "    print(f\"Building Annoy Index with {num_tree} trees. This may take a while...\")\n",
    "    index.build(num_tree)\n",
    "    print(\"Annoy Index Built Successfully\")\n",
    "    \n",
    "    #Saving Index to Disk to avoid rebuilding over and over again\n",
    "    annoy_index_filename = 'annoy_index.ann'\n",
    "    index.save(annoy_index_filename)\n",
    "    print(f\"Annoy Index with {num_movies} movies saved to {annoy_index_filename}\")\n",
    "    "
   ]
  },
  {
   "cell_type": "code",
   "execution_count": 14,
   "id": "0ec69119-1193-48b7-8ac1-6da193b4c381",
   "metadata": {},
   "outputs": [],
   "source": [
    "#Same function as above for Collaborative Filtering. Returning the movies it recommends and their respective ratings\n",
    "def get_top_n_cf_recommendations(algo, user_id, movies_df, ratings_df, n=10):\n",
    "    \"\"\"\n",
    "    Generate top N collaborative model based movie recommendations for a user\n",
    "\n",
    "    Parameters:\n",
    "    - algo: Trained Surprise Algorithm\n",
    "    - user_id: ID of the user\n",
    "    - movies_df: Dataframe containing the movies data\n",
    "    - ratings_df: Dataframe containing the ratings data\n",
    "    - n: Number of recommendations to return\n",
    "\n",
    "    Returns:\n",
    "    - List of tuples (movieId, predicted_rating)\n",
    "\n",
    "    \"\"\"\n",
    "    all_movie_ids = movies_df['movieId'].unique()\n",
    "    \n",
    "    rated_movie_ids = ratings_df[ratings_df['userId'] == user_id]['movieId'].unique()\n",
    "\n",
    "    unrated_movie_ids = [movie for movie in all_movie_ids if movie not in rated_movie_ids]\n",
    "\n",
    "    predictions = [algo.predict(user_id, movie_id) for movie_id in unrated_movie_ids]\n",
    "    \n",
    "    predictions.sort(key = lambda x: x.est, reverse=True)\n",
    "\n",
    "    i = 0\n",
    "    counter = 0\n",
    "    genres_detected = {}\n",
    "    top_n = []\n",
    "    #Trying to create a more diverse list of movies by limiting each genre suggestion to just 2\n",
    "    while counter < 10:\n",
    "        current_id = predictions[i].iid\n",
    "        current_movie_genre = movies_df[movies_df['movieId'] == current_id]['genres'].astype(str).iloc[0]\n",
    "        if genres_detected.get(current_movie_genre, -1) == -1:\n",
    "            genres_detected[current_movie_genre] = 0\n",
    "        if genres_detected[current_movie_genre] < 2:\n",
    "            top_n.append(predictions[i])\n",
    "            genres_detected[current_movie_genre] += 1\n",
    "            counter += 1\n",
    "        i+=1\n",
    "        \n",
    "    final_top10_pred = []\n",
    "    for pred in top_n:\n",
    "        final_top10_pred.append((pred.iid, pred.est))\n",
    "            \n",
    "    return final_top10_pred"
   ]
  },
  {
   "cell_type": "code",
   "execution_count": 15,
   "id": "d605998a-8f75-4493-bae2-2699681face0",
   "metadata": {},
   "outputs": [],
   "source": [
    "# Get Top 10 Content based recommendations based on tress built by Annoy Index (cosine similarity matrix is impractical)\n",
    "\n",
    "def get_content_based_recommendations(movie_id, movies_df, index, top_n=10, num_movies=67000):\n",
    "    \"\"\"\n",
    "    Generate top N content based movie recommendations for a user\n",
    "\n",
    "    Parameters:\n",
    "    - movie_id: ID of the movie\n",
    "    - movies_df: Dataframe containing the movies data\n",
    "    - index: Annoy Index\n",
    "    - top_n: Number of recommendations to return\n",
    "    - num_movies - Number of movies in Annoy index\n",
    "\n",
    "    Returns:\n",
    "    - Dataframe of recommended movies\n",
    "\n",
    "    \"\"\"\n",
    "    idx = movies_df.index[movies_df['movieId'] == movie_id].tolist()[0]\n",
    "    similar_indices = []\n",
    "    if idx < num_movies:\n",
    "        similar_indices = index.get_nns_by_item(idx, top_n+1)\n",
    "    else:\n",
    "        similar_indices = [idx]\n",
    "    similar_movies = movies_df.iloc[similar_indices][['movieId', 'title', 'genres']]\n",
    "    return similar_movies\n"
   ]
  },
  {
   "cell_type": "code",
   "execution_count": 16,
   "id": "d1d656ba-ca69-4e86-9c73-eb3305f64e9c",
   "metadata": {},
   "outputs": [
    {
     "name": "stdout",
     "output_type": "stream",
     "text": [
      "Hybrid Recommendations for User: 200949\n",
      "    movieId                                              title  score\n",
      "0       318                   Shawshank Redemption, The (1994)      2\n",
      "11   171011                             Planet Earth II (2016)      2\n",
      "99   120807                   John Mulaney: New In Town (2012)      2\n",
      "88   195671                   An Elephant Sitting Still (2018)      2\n",
      "77   173535  The Adventures of Sherlock Holmes and Doctor W...      2\n",
      "66   149412  Legend of the Galactic Heroes: My Conquest Is ...      2\n",
      "44   163134                                  Your Name. (2016)      2\n",
      "33    49085                   Big City, The (Mahanagar) (1963)      2\n",
      "22    86237                                 Connections (1978)      2\n",
      "55   171495                                             Cosmos      2\n"
     ]
    }
   ],
   "source": [
    "# Generate Hybrid Recommendations using both our collaborative filtering model and content based methods\n",
    "def hybrid_recommendations(algo, user_id, movies_df, ratings_df, index, top_n_cf=10, top_n_cb=10, num_movies=67000):\n",
    "    \"\"\"\n",
    "    Generate top N hybrid based movie recommendations for a user. Combines and balances suggestions from above collaborative filtering model and content based model\n",
    "\n",
    "    Parameters:\n",
    "    - algo: Trained Surprise Algorithm\n",
    "    - user_id: ID of the user\n",
    "    - movies_df: Dataframe containing the movies data\n",
    "    - ratings_df: Dataframe containing the ratings data\n",
    "    - index: Annoy Index\n",
    "    - top_n_cf: Number of recommendations to return by collaborative filtering model\n",
    "    - top_n_cb: Number of recommendations to return by content based model\n",
    "    - num_movies - Number of movies in Annoy index\n",
    "\n",
    "    Returns:\n",
    "    - Dataframe of top 10 recommended hybrid suggestions for movies\n",
    "\n",
    "    \"\"\"\n",
    "    cf_recs = get_top_n_cf_recommendations(algo, user_id, movies_df, ratings_df, n = top_n_cf)\n",
    "\n",
    "    combined_recs = {}\n",
    "\n",
    "    for i in range(len(cf_recs)):\n",
    "        (movie_id, predicted_rating) = cf_recs[i]\n",
    "        similar_movies = get_content_based_recommendations(movie_id, movies_df, index, top_n=top_n_cb, num_movies=num_movies)\n",
    "        for _, row in similar_movies.iterrows():\n",
    "            sim_movie_id = row['movieId']\n",
    "            title = row['title']\n",
    "            \n",
    "            #Strike a balance between suggestions from collaborative model and content model by assigning different scores\n",
    "            if sim_movie_id not in combined_recs:\n",
    "                if sim_movie_id == movie_id:\n",
    "                    combined_recs[sim_movie_id] = {'title':title, 'count': 2}\n",
    "                else:\n",
    "                    combined_recs[sim_movie_id] = {'title':title, 'count': 1}\n",
    "                if similar_movies.shape[0] == 1 and i < 10:\n",
    "                    combined_recs[sim_movie_id] = {'title':title, 'count': 4}  \n",
    "            elif sim_movie_id == movie_id:\n",
    "                combined_recs[sim_movie_id]['count'] = combined_recs[sim_movie_id]['count'] + 1 * combined_recs[sim_movie_id]['count']\n",
    "            else:\n",
    "                combined_recs[sim_movie_id]['count'] = combined_recs[sim_movie_id]['count'] + 2 * combined_recs[sim_movie_id]['count']\n",
    "            \n",
    "\n",
    "    recs_list = [{'movieId': mid, 'title': info['title'], 'score': info['count']} for mid, info in combined_recs.items()]\n",
    "\n",
    "    recs_df = pd.DataFrame(recs_list)\n",
    "    recs_df = recs_df.sort_values(by='score', ascending=False).head(10)\n",
    "\n",
    "    return recs_df\n",
    "    \n",
    "\n",
    "user_id = 200949\n",
    "hybrid_recs = hybrid_recommendations(algo, user_id, movies, ratings, index, 10, 10, 67000)\n",
    "print(f\"Hybrid Recommendations for User: {user_id}\")\n",
    "print(hybrid_recs)\n",
    "    "
   ]
  },
  {
   "cell_type": "code",
   "execution_count": null,
   "id": "84cc5b4e-82bb-4158-9934-d7cf47f2b09d",
   "metadata": {},
   "outputs": [],
   "source": []
  }
 ],
 "metadata": {
  "kernelspec": {
   "display_name": "Python 3 (ipykernel)",
   "language": "python",
   "name": "python3"
  },
  "language_info": {
   "codemirror_mode": {
    "name": "ipython",
    "version": 3
   },
   "file_extension": ".py",
   "mimetype": "text/x-python",
   "name": "python",
   "nbconvert_exporter": "python",
   "pygments_lexer": "ipython3",
   "version": "3.12.3"
  }
 },
 "nbformat": 4,
 "nbformat_minor": 5
}
